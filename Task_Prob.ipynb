{
  "nbformat": 4,
  "nbformat_minor": 0,
  "metadata": {
    "colab": {
      "provenance": [],
      "authorship_tag": "ABX9TyMLNrtGP3XgwnuI3wJ7Nfwa",
      "include_colab_link": true
    },
    "kernelspec": {
      "name": "python3",
      "display_name": "Python 3"
    },
    "language_info": {
      "name": "python"
    }
  },
  "cells": [
    {
      "cell_type": "markdown",
      "metadata": {
        "id": "view-in-github",
        "colab_type": "text"
      },
      "source": [
        "<a href=\"https://colab.research.google.com/github/walaa-coder1/Task-iti/blob/main/Task_Prob.ipynb\" target=\"_parent\"><img src=\"https://colab.research.google.com/assets/colab-badge.svg\" alt=\"Open In Colab\"/></a>"
      ]
    },
    {
      "cell_type": "markdown",
      "source": [
        "Manual vs NumPy Mean"
      ],
      "metadata": {
        "id": "f6Wjuc251i1A"
      }
    },
    {
      "cell_type": "code",
      "execution_count": 1,
      "metadata": {
        "colab": {
          "base_uri": "https://localhost:8080/"
        },
        "id": "Zz0LThR1w3Lx",
        "outputId": "5fbba3e5-de52-4fa5-dd35-e81bc6a13cfe"
      },
      "outputs": [
        {
          "output_type": "stream",
          "name": "stdout",
          "text": [
            "Manual Mean: 20.5\n",
            "NumPy Mean: 20.5\n"
          ]
        }
      ],
      "source": [
        "import numpy as np\n",
        "\n",
        "ages = [18, 21, 20, 19, 22, 23, 20, 21, 22, 19]\n",
        "\n",
        "# Manual mean\n",
        "manual_mean = sum(ages) / len(ages)\n",
        "\n",
        "# NumPy mean\n",
        "numpy_mean = np.mean(ages)\n",
        "\n",
        "print(\"Manual Mean:\", manual_mean)\n",
        "print(\"NumPy Mean:\", numpy_mean)\n"
      ]
    },
    {
      "cell_type": "markdown",
      "source": [
        "Range and Data Spread"
      ],
      "metadata": {
        "id": "XMe0aiJu1otz"
      }
    },
    {
      "cell_type": "code",
      "source": [
        "import random\n",
        "\n",
        "# Generate random list\n",
        "nums = [random.randint(10, 50) for _ in range(15)]\n",
        "\n",
        "# Manual median\n",
        "sorted_nums = sorted(nums)\n",
        "n = len(sorted_nums)\n",
        "\n",
        "if n % 2 == 1:\n",
        "    manual_median = sorted_nums[n // 2]\n",
        "else:\n",
        "    manual_median = (sorted_nums[n//2 - 1] + sorted_nums[n//2]) / 2\n",
        "\n",
        "# NumPy median\n",
        "numpy_median = np.median(nums)\n",
        "\n",
        "print(\"Numbers:\", nums)\n",
        "print(\"Manual Median:\", manual_median)\n",
        "print(\"NumPy Median:\", numpy_median)\n"
      ],
      "metadata": {
        "colab": {
          "base_uri": "https://localhost:8080/"
        },
        "id": "HacFhCjMxJOt",
        "outputId": "b3ac92bf-d776-42bd-cdfd-24c03e51cf7d"
      },
      "execution_count": 2,
      "outputs": [
        {
          "output_type": "stream",
          "name": "stdout",
          "text": [
            "Numbers: [23, 36, 12, 25, 18, 14, 50, 47, 40, 41, 17, 39, 36, 39, 30]\n",
            "Manual Median: 36\n",
            "NumPy Median: 36.0\n"
          ]
        }
      ]
    },
    {
      "cell_type": "code",
      "source": [
        "# Manual\n",
        "manual_min = min(nums)\n",
        "manual_max = max(nums)\n",
        "manual_range = manual_max - manual_min\n",
        "\n",
        "# NumPy\n",
        "numpy_min = np.min(nums)\n",
        "numpy_max = np.max(nums)\n",
        "numpy_range = numpy_max - numpy_min\n",
        "\n",
        "print(\"Manual -> Min:\", manual_min, \"Max:\", manual_max, \"Range:\", manual_range)\n",
        "print(\"NumPy -> Min:\", numpy_min, \"Max:\", numpy_max, \"Range:\", numpy_range)\n",
        "\n"
      ],
      "metadata": {
        "colab": {
          "base_uri": "https://localhost:8080/"
        },
        "id": "BGUZ5WYBx6GD",
        "outputId": "2a11816f-c643-4b71-ce3d-23876d5be4ce"
      },
      "execution_count": 3,
      "outputs": [
        {
          "output_type": "stream",
          "name": "stdout",
          "text": [
            "Manual -> Min: 12 Max: 50 Range: 38\n",
            "NumPy -> Min: 12 Max: 50 Range: 38\n"
          ]
        }
      ]
    },
    {
      "cell_type": "markdown",
      "source": [
        "Variance & Standard Deviation"
      ],
      "metadata": {
        "id": "TPc628m71bUv"
      }
    },
    {
      "cell_type": "code",
      "source": [
        "data = [5, 7, 3, 7, 9, 10, 15, 7]\n",
        "\n",
        "# Manual variance\n",
        "mean_val = sum(data) / len(data)\n",
        "squared_diff = [(x - mean_val)**2 for x in data]\n",
        "manual_variance = sum(squared_diff) / len(data)\n",
        "manual_std = manual_variance ** 0.5\n",
        "\n",
        "# NumPy\n",
        "numpy_variance = np.var(data)\n",
        "numpy_std = np.std(data)\n",
        "\n",
        "print(\"Manual Variance:\", manual_variance, \"Std Dev:\", manual_std)\n",
        "print(\"NumPy Variance:\", numpy_variance, \"Std Dev:\", numpy_std)\n"
      ],
      "metadata": {
        "colab": {
          "base_uri": "https://localhost:8080/"
        },
        "id": "W5VZSK0ZyFUs",
        "outputId": "282235ef-3c71-4860-c011-ded1425bbb56"
      },
      "execution_count": 4,
      "outputs": [
        {
          "output_type": "stream",
          "name": "stdout",
          "text": [
            "Manual Variance: 11.359375 Std Dev: 3.370367190678191\n",
            "NumPy Variance: 11.359375 Std Dev: 3.370367190678191\n"
          ]
        }
      ]
    },
    {
      "cell_type": "markdown",
      "source": [
        "\n",
        "Quartiles & IQR"
      ],
      "metadata": {
        "id": "1s2sXZHb1Sez"
      }
    },
    {
      "cell_type": "code",
      "source": [
        "# Using NumPy percentiles\n",
        "Q1 = np.percentile(data, 25)\n",
        "Q2 = np.percentile(data, 50)\n",
        "Q3 = np.percentile(data, 75)\n",
        "IQR = Q3 - Q1\n",
        "\n",
        "print(\"Q1:\", Q1, \"Q2 (Median):\", Q2, \"Q3:\", Q3, \"IQR:\", IQR)\n"
      ],
      "metadata": {
        "colab": {
          "base_uri": "https://localhost:8080/"
        },
        "id": "TDoLqOX9yZ2a",
        "outputId": "773f6849-0448-49d2-9787-7ab160e5586c"
      },
      "execution_count": 5,
      "outputs": [
        {
          "output_type": "stream",
          "name": "stdout",
          "text": [
            "Q1: 6.5 Q2 (Median): 7.0 Q3: 9.25 IQR: 2.75\n"
          ]
        }
      ]
    },
    {
      "cell_type": "markdown",
      "source": [
        "Data Transformation & Statistics"
      ],
      "metadata": {
        "id": "-GvUI6GxzBuZ"
      }
    },
    {
      "cell_type": "code",
      "source": [
        "##8. Z-Score Normalization\n",
        "def z_score_normalization(lst):\n",
        "    mean_val = sum(lst) / len(lst)\n",
        "    std_val = (sum([(x - mean_val)**2 for x in lst]) / len(lst))**0.5\n",
        "    return [(x - mean_val) / std_val for x in lst]\n",
        "\n",
        "nums = [10, 20, 30, 40, 50]\n",
        "z_scores = z_score_normalization(nums)\n",
        "\n",
        "print(\"Original:\", nums)\n",
        "print(\"Z-scores:\", z_scores)\n"
      ],
      "metadata": {
        "colab": {
          "base_uri": "https://localhost:8080/"
        },
        "id": "ih07Pczqymk8",
        "outputId": "72a8165c-861d-4b3f-bb3f-f553647f4692"
      },
      "execution_count": 6,
      "outputs": [
        {
          "output_type": "stream",
          "name": "stdout",
          "text": [
            "Original: [10, 20, 30, 40, 50]\n",
            "Z-scores: [-1.414213562373095, -0.7071067811865475, 0.0, 0.7071067811865475, 1.414213562373095]\n"
          ]
        }
      ]
    },
    {
      "cell_type": "code",
      "source": [
        "##9. Moving Average\n",
        "# Generate random numbers\n",
        "nums = [random.randint(1, 100) for _ in range(20)]\n",
        "\n",
        "# Manual moving average (window size 3)\n",
        "manual_moving_avg = [sum(nums[i:i+3])/3 for i in range(len(nums)-2)]\n",
        "\n",
        "# NumPy convolve\n",
        "numpy_moving_avg = np.convolve(nums, np.ones(3)/3, mode='valid')\n",
        "\n",
        "print(\"Numbers:\", nums)\n",
        "print(\"Manual Moving Avg:\", manual_moving_avg)\n",
        "print(\"NumPy Moving Avg:\", numpy_moving_avg)\n"
      ],
      "metadata": {
        "colab": {
          "base_uri": "https://localhost:8080/"
        },
        "id": "LvXlmIIrzcL2",
        "outputId": "3ac37ce8-fd2f-4fa3-9e4e-713f1000da97"
      },
      "execution_count": 8,
      "outputs": [
        {
          "output_type": "stream",
          "name": "stdout",
          "text": [
            "Numbers: [5, 39, 27, 33, 71, 28, 5, 40, 72, 52, 39, 7, 8, 33, 76, 40, 74, 84, 65, 46]\n",
            "Manual Moving Avg: [23.666666666666668, 33.0, 43.666666666666664, 44.0, 34.666666666666664, 24.333333333333332, 39.0, 54.666666666666664, 54.333333333333336, 32.666666666666664, 18.0, 16.0, 39.0, 49.666666666666664, 63.333333333333336, 66.0, 74.33333333333333, 65.0]\n",
            "NumPy Moving Avg: [23.66666667 33.         43.66666667 44.         34.66666667 24.33333333\n",
            " 39.         54.66666667 54.33333333 32.66666667 18.         16.\n",
            " 39.         49.66666667 63.33333333 66.         74.33333333 65.        ]\n"
          ]
        }
      ]
    },
    {
      "cell_type": "code",
      "source": [
        "##10.Outlier Detection (IQR method)\n",
        "# Generate data\n",
        "nums = list(range(1, 26)) + [300, 400]\n",
        "\n",
        "# Quartiles\n",
        "Q1 = np.percentile(nums, 25)\n",
        "Q3 = np.percentile(nums, 75)\n",
        "IQR = Q3 - Q1\n",
        "\n",
        "# Outlier boundaries\n",
        "lower_bound = Q1 - 1.5 * IQR\n",
        "upper_bound = Q3 + 1.5 * IQR\n",
        "\n",
        "outliers = [x for x in nums if x < lower_bound or x > upper_bound]\n",
        "\n",
        "print(\"Data:\", nums)\n",
        "print(\"Outliers:\", outliers)\n"
      ],
      "metadata": {
        "colab": {
          "base_uri": "https://localhost:8080/"
        },
        "id": "VjSsD53dyrC_",
        "outputId": "c7caf078-0594-44ba-af75-92460d64f8f5"
      },
      "execution_count": 7,
      "outputs": [
        {
          "output_type": "stream",
          "name": "stdout",
          "text": [
            "Data: [1, 2, 3, 4, 5, 6, 7, 8, 9, 10, 11, 12, 13, 14, 15, 16, 17, 18, 19, 20, 21, 22, 23, 24, 25, 300, 400]\n",
            "Outliers: [300, 400]\n"
          ]
        }
      ]
    },
    {
      "cell_type": "code",
      "source": [],
      "metadata": {
        "id": "dA9-C4ogyvd_"
      },
      "execution_count": null,
      "outputs": []
    }
  ]
}