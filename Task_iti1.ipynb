{
  "nbformat": 4,
  "nbformat_minor": 0,
  "metadata": {
    "colab": {
      "provenance": [],
      "authorship_tag": "ABX9TyPhWK8YJwo+ajHzjVE2sI9l",
      "include_colab_link": true
    },
    "kernelspec": {
      "name": "python3",
      "display_name": "Python 3"
    },
    "language_info": {
      "name": "python"
    }
  },
  "cells": [
    {
      "cell_type": "markdown",
      "metadata": {
        "id": "view-in-github",
        "colab_type": "text"
      },
      "source": [
        "<a href=\"https://colab.research.google.com/github/walaa-coder1/Task-iti/blob/main/Task_iti1.ipynb\" target=\"_parent\"><img src=\"https://colab.research.google.com/assets/colab-badge.svg\" alt=\"Open In Colab\"/></a>"
      ]
    },
    {
      "cell_type": "code",
      "execution_count": 1,
      "metadata": {
        "colab": {
          "base_uri": "https://localhost:8080/"
        },
        "id": "ZKg5RfT-5ohx",
        "outputId": "f16f0cb6-3f59-41bd-e8a0-00d7a292bf15"
      },
      "outputs": [
        {
          "output_type": "stream",
          "name": "stdout",
          "text": [
            "1a: 7\n",
            "1b: 2\n",
            "1c: 27\n",
            "1d: 17\n",
            "1e: 1.6666666666666667\n",
            "1f: 1\n",
            "1g: 2\n",
            "\n",
            "Float results:\n",
            "1a: 7.0\n",
            "1b: 2.0\n",
            "1c: 27.0\n",
            "1d: 17.0\n",
            "1e: 1.6666666666666667\n",
            "1f: 1.0\n",
            "1g: 2.0\n"
          ]
        }
      ],
      "source": [
        " #Problem 1\n",
        "\n",
        "num1 = 3\n",
        "num2 = 4\n",
        "num3 = 5\n",
        "\n",
        "print(\"1a:\", num1 + num2)                # 3 + 4 = 7\n",
        "print(\"1b:\", num3 - num1)                # 5 - 3 = 2\n",
        "print(\"1c:\", num1 * (num2 + num3))       # 3 * (4 + 5) = 27\n",
        "print(\"1d:\", num1 * num2 + num3)         # (3 * 4) + 5 = 17\n",
        "print(\"1e:\", num3 / num1)                # 5 / 3 = 1.666...\n",
        "print(\"1f:\", num3 // num1)               # 5 // 3 = 1 (floor division)\n",
        "print(\"1g:\", num3 % num1)                # 5 % 3 = 2\n",
        "\n",
        "num1 = float(num1)\n",
        "num2 = float(num2)\n",
        "num3 = float(num3)\n",
        "\n",
        "print(\"\\nFloat results:\")\n",
        "print(\"1a:\", num1 + num2)\n",
        "print(\"1b:\", num3 - num1)\n",
        "print(\"1c:\", num1 * (num2 + num3))\n",
        "print(\"1d:\", num1 * num2 + num3)\n",
        "print(\"1e:\", num3 / num1)\n",
        "print(\"1f:\", num3 // num1)\n",
        "print(\"1g:\", num3 % num1)"
      ]
    },
    {
      "cell_type": "code",
      "source": [
        "# Problem 2\n",
        "x, y, z, g = 1, 2, 3, 4\n",
        "print(\"\\n2a:\", x + y / z * g)   # 1 + (2/3)*4\n",
        "print(\"2b:\", y ** z)            # 2 ** 3 = 8"
      ],
      "metadata": {
        "colab": {
          "base_uri": "https://localhost:8080/"
        },
        "id": "rKag_dDL5svR",
        "outputId": "7c1621d1-13aa-4682-feb8-d9a216f16d2a"
      },
      "execution_count": 2,
      "outputs": [
        {
          "output_type": "stream",
          "name": "stdout",
          "text": [
            "\n",
            "2a: 3.6666666666666665\n",
            "2b: 8\n"
          ]
        }
      ]
    },
    {
      "cell_type": "code",
      "source": [
        "# Problem 3\n",
        "# ------------------------------------\n",
        "str_a = \"Python\"\n",
        "str_b = \" is a \"\n",
        "str_c = \"times fun language\"\n",
        "num = 1000\n",
        "\n",
        "# Concatenation\n",
        "str_ab = str_a + str_b + str(num) + \" \" + str_c\n",
        "print(\"\\n3a:\", str_ab)\n",
        "\n",
        "# Repeat str_a 10 times\n",
        "str_a10 = str_a * 10\n",
        "print(\"3b:\", str_a10)"
      ],
      "metadata": {
        "colab": {
          "base_uri": "https://localhost:8080/"
        },
        "id": "oI7tGb5u52Cb",
        "outputId": "2930b11a-6508-40a8-af0f-f8a3c8c4f2a8"
      },
      "execution_count": 3,
      "outputs": [
        {
          "output_type": "stream",
          "name": "stdout",
          "text": [
            "\n",
            "3a: Python is a 1000 times fun language\n",
            "3b: PythonPythonPythonPythonPythonPythonPythonPythonPythonPython\n"
          ]
        }
      ]
    },
    {
      "cell_type": "code",
      "source": [
        "# Problem 4\n",
        "\n",
        "num1 = -5\n",
        "num2 = 3.2\n",
        "num3 = 5.7\n",
        "num4 = 625\n",
        "\n",
        "# Absolute value\n",
        "print(\"\\n4a:\", abs(num1))\n",
        "\n",
        "# Round to nearest integer\n",
        "print(\"4b num2:\", round(num2))\n",
        "print(\"4b num3:\", round(num3))\n",
        "\n",
        "# Square root\n",
        "import math\n",
        "print(\"4c:\", math.sqrt(num4))\n"
      ],
      "metadata": {
        "colab": {
          "base_uri": "https://localhost:8080/"
        },
        "id": "LGKuJ3hK56ie",
        "outputId": "03de0fa7-67bd-4da5-a395-ccdc9e197ab9"
      },
      "execution_count": 4,
      "outputs": [
        {
          "output_type": "stream",
          "name": "stdout",
          "text": [
            "\n",
            "4a: 5\n",
            "4b num2: 3\n",
            "4b num3: 6\n",
            "4c: 25.0\n"
          ]
        }
      ]
    },
    {
      "cell_type": "code",
      "source": [
        "# Problem 5\n",
        "# ------------------------------------\n",
        "# Basic multiplication calculator\n",
        "print(\"\\nProblem 5: Multiplication Calculator\")\n",
        "a = float(input(\"Enter first number: \"))\n",
        "b = float(input(\"Enter second number: \"))\n",
        "print(\"Result:\", a * b)"
      ],
      "metadata": {
        "colab": {
          "base_uri": "https://localhost:8080/"
        },
        "id": "6J2o2xkd59NV",
        "outputId": "c3950bbb-ac69-4890-fd75-bb451f1de759"
      },
      "execution_count": 5,
      "outputs": [
        {
          "output_type": "stream",
          "name": "stdout",
          "text": [
            "\n",
            "Problem 5: Multiplication Calculator\n",
            "Enter first number: 5\n",
            "Enter second number: 5\n",
            "Result: 25.0\n"
          ]
        }
      ]
    },
    {
      "cell_type": "code",
      "source": [
        "# 1. Odd or Even\n",
        "num = int(input(\"Enter a number: \"))\n",
        "if num % 2 == 0:\n",
        "    print(\"Even\")\n",
        "else:\n",
        "    print(\"Odd\")\n"
      ],
      "metadata": {
        "colab": {
          "base_uri": "https://localhost:8080/"
        },
        "id": "tAjq9arJ6WCY",
        "outputId": "25c22996-36fc-4543-b08e-9a3076b71183"
      },
      "execution_count": 6,
      "outputs": [
        {
          "output_type": "stream",
          "name": "stdout",
          "text": [
            "Enter a number: 5\n",
            "Odd\n"
          ]
        }
      ]
    },
    {
      "cell_type": "code",
      "source": [
        "# 2. Pass or Fail\n",
        "score = int(input(\"Enter student score (0-100): \"))\n",
        "if score >= 50:\n",
        "    print(\"Pass\")\n",
        "else:\n",
        "    print(\"Fail\")"
      ],
      "metadata": {
        "colab": {
          "base_uri": "https://localhost:8080/"
        },
        "id": "YEhdamrD6cVO",
        "outputId": "3aa149e8-cb41-45d1-e69b-5421c3b44626"
      },
      "execution_count": 7,
      "outputs": [
        {
          "output_type": "stream",
          "name": "stdout",
          "text": [
            "Enter student score (0-100): 60\n",
            "Pass\n"
          ]
        }
      ]
    },
    {
      "cell_type": "code",
      "source": [
        "# 3. Largest of 3 numbers\n",
        "a = int(input(\"Enter first number: \"))\n",
        "b = int(input(\"Enter second number: \"))\n",
        "c = int(input(\"Enter third number: \"))\n",
        "print(\"Largest number is:\", max(a, b, c))"
      ],
      "metadata": {
        "colab": {
          "base_uri": "https://localhost:8080/"
        },
        "id": "rdcfv7bs6gjF",
        "outputId": "40ca75ff-c326-43e1-ee5a-f00f6ca249fb"
      },
      "execution_count": 8,
      "outputs": [
        {
          "output_type": "stream",
          "name": "stdout",
          "text": [
            "Enter first number: 2\n",
            "Enter second number: 10\n",
            "Enter third number: 5\n",
            "Largest number is: 10\n"
          ]
        }
      ]
    },
    {
      "cell_type": "code",
      "source": [
        " #4. Counting with for\n",
        "for i in range(1, 11):\n",
        "    print(i)"
      ],
      "metadata": {
        "colab": {
          "base_uri": "https://localhost:8080/"
        },
        "id": "UauM2PGR6mGt",
        "outputId": "46d42960-3e28-4fbf-b3a5-a3f5e59ee131"
      },
      "execution_count": 9,
      "outputs": [
        {
          "output_type": "stream",
          "name": "stdout",
          "text": [
            "1\n",
            "2\n",
            "3\n",
            "4\n",
            "5\n",
            "6\n",
            "7\n",
            "8\n",
            "9\n",
            "10\n"
          ]
        }
      ]
    },
    {
      "cell_type": "code",
      "source": [
        "# 5. Grade Calculator\n",
        "score = int(input(\"Enter score (0-100): \"))\n",
        "if 90 <= score <= 100:\n",
        "    print(\"Grade: A\")\n",
        "elif 80 <= score <= 89:\n",
        "    print(\"Grade: B\")\n",
        "elif 70 <= score <= 79:\n",
        "    print(\"Grade: C\")\n",
        "elif 60 <= score <= 69:\n",
        "    print(\"Grade: D\")\n",
        "else:\n",
        "    print(\"Grade: F\")"
      ],
      "metadata": {
        "colab": {
          "base_uri": "https://localhost:8080/"
        },
        "id": "oiPFT4hx6qTA",
        "outputId": "dd6f3ba5-e8fe-4f6f-b1a8-49343d8cbf08"
      },
      "execution_count": 10,
      "outputs": [
        {
          "output_type": "stream",
          "name": "stdout",
          "text": [
            "Enter score (0-100): 80\n",
            "Grade: B\n"
          ]
        }
      ]
    },
    {
      "cell_type": "code",
      "source": [
        "# 6. Multiplication Table\n",
        "num = int(input(\"Enter a number for multiplication table: \"))\n",
        "for i in range(1, 11):\n",
        "    print(f\"{num} x {i} = {num * i}\")\n",
        ""
      ],
      "metadata": {
        "colab": {
          "base_uri": "https://localhost:8080/"
        },
        "id": "2_lNOrYJ6uN4",
        "outputId": "f4f016d9-e559-44bb-ac4d-e528eb4c6cfa"
      },
      "execution_count": 11,
      "outputs": [
        {
          "output_type": "stream",
          "name": "stdout",
          "text": [
            "Enter a number for multiplication table: 5\n",
            "5 x 1 = 5\n",
            "5 x 2 = 10\n",
            "5 x 3 = 15\n",
            "5 x 4 = 20\n",
            "5 x 5 = 25\n",
            "5 x 6 = 30\n",
            "5 x 7 = 35\n",
            "5 x 8 = 40\n",
            "5 x 9 = 45\n",
            "5 x 10 = 50\n"
          ]
        }
      ]
    },
    {
      "cell_type": "code",
      "source": [
        "\n",
        "# 7. Sum of Even Numbers\n",
        "total = 0\n",
        "for i in range(1, 51):\n",
        "    if i % 2 == 0:\n",
        "        total += i\n",
        "print(\"Sum of even numbers from 1 to 50 is:\", total)"
      ],
      "metadata": {
        "colab": {
          "base_uri": "https://localhost:8080/"
        },
        "id": "ACqDa76C6zGV",
        "outputId": "d129bda7-6e2d-4a9a-9a56-d4908075f847"
      },
      "execution_count": 12,
      "outputs": [
        {
          "output_type": "stream",
          "name": "stdout",
          "text": [
            "Sum of even numbers from 1 to 50 is: 650\n"
          ]
        }
      ]
    },
    {
      "cell_type": "code",
      "source": [
        "# 8. Factorial with while\n",
        "num = int(input(\"Enter a number for factorial: \"))\n",
        "factorial = 1\n",
        "i = 1\n",
        "while i <= num:\n",
        "    factorial *= i\n",
        "    i += 1\n",
        "print(f\"Factorial of {num} is: {factorial}\")"
      ],
      "metadata": {
        "colab": {
          "base_uri": "https://localhost:8080/"
        },
        "id": "p8F3Frnw65Ru",
        "outputId": "ff1eb158-485d-4a03-ae0c-11a0177083f2"
      },
      "execution_count": 13,
      "outputs": [
        {
          "output_type": "stream",
          "name": "stdout",
          "text": [
            "Enter a number for factorial: 10\n",
            "Factorial of 10 is: 3628800\n"
          ]
        }
      ]
    },
    {
      "cell_type": "code",
      "source": [],
      "metadata": {
        "id": "Yh6ijRhU6-e6"
      },
      "execution_count": null,
      "outputs": []
    }
  ]
}